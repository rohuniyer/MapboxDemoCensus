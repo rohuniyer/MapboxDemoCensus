{
 "cells": [
  {
   "cell_type": "code",
   "execution_count": 1,
   "metadata": {},
   "outputs": [],
   "source": [
    "import pandas as pd\n",
    "import numpy as np\n",
    "import requests\n",
    "from bs4 import BeautifulSoup"
   ]
  },
  {
   "cell_type": "code",
   "execution_count": 2,
   "metadata": {},
   "outputs": [],
   "source": [
    "API_key = '428db062383b0709dcdb4ad6b91a30671288235b'"
   ]
  },
  {
   "cell_type": "code",
   "execution_count": 6,
   "metadata": {},
   "outputs": [],
   "source": [
    "us_call = 'https://api.census.gov/data/2020/dec/pl?get=P1_001N&for=us:*&key={}'.format(API_key)\n",
    "call_return = requests.get(us_call).json()"
   ]
  },
  {
   "cell_type": "code",
   "execution_count": 20,
   "metadata": {},
   "outputs": [
    {
     "data": {
      "text/plain": [
       "'https://api.census.gov/data/2020/dec/pl?get=P1_001N&for=us:*&key=428db062383b0709dcdb4ad6b91a30671288235b'"
      ]
     },
     "execution_count": 20,
     "metadata": {},
     "output_type": "execute_result"
    }
   ],
   "source": [
    "us_call"
   ]
  },
  {
   "cell_type": "markdown",
   "metadata": {},
   "source": [
    "## URL Call Generation\n",
    "\n",
    "Use this section to generate the types of calls you want to make. \n",
    "\n",
    "If you're selecting, a state, do you want the breakdown to be by county and then tract. The function should take a number of arguments to define granularity and then other arguments to determine location and geography. \n",
    "\n",
    "Final arguments will be type of data to pull but for now focus on population: P1_001N"
   ]
  },
  {
   "cell_type": "code",
   "execution_count": 122,
   "metadata": {},
   "outputs": [],
   "source": [
    "def census_2020(API_key, fields = ['P1_001N'], state_abr = \"All\", county_name = \"*\", county = True, tract = True):\n",
    "    ''' Takes in API Key, Census fields, and geography and granularity specifications. Returns a dataframe'''\n",
    "    \n",
    "    state_codes = pd.read_csv('https://www2.census.gov/geo/docs/reference/state.txt', sep='|', dtype={'STATE': str})\n",
    "    if state_abr == 'All':\n",
    "        state = '*'\n",
    "    if state_abr != \"All\":\n",
    "        state = state_codes.loc[state_codes['STUSAB'] == state_abr]['STATE'].values[0]\n",
    "    \n",
    "    if county & (state_abr != \"All\"):\n",
    "        county_url = 'https://www2.census.gov/geo/docs/reference/codes/files/st{}_{}_cou.txt'.format(state, state_abr.lower())\n",
    "        print(county_url)\n",
    "        county_codes = pd.read_csv(county_url, names=['State', 'State Code', 'County Code', 'County Name', 'Fips Class Code'], dtype={'County Code': str})\n",
    "        \n",
    "    if county_name != \"*\":\n",
    "        county_name = county_codes.loc[county_codes['County Name'] == county_name]['County Code'].values[0]\n",
    "\n",
    "    if tract:\n",
    "        final_call = 'https://api.census.gov/data/2020/dec/pl?get={}&for=tract:*&in=state:{}&in=county:{}&key={}'.format(','.join(fields), state, county_name, API_key)\n",
    "        call_return = requests.get(final_call).json()\n",
    "        call_df = pd.DataFrame(call_return)\n",
    "        call_df.columns = call_df.iloc[0]\n",
    "        call_df = call_df.drop(call_df.index[0])\n",
    "\n",
    "        call_df = call_df.merge(county_codes, left_on = 'county', right_on = 'County Code', how = 'left')\n",
    "\n",
    "    elif county:\n",
    "        final_call = 'https://api.census.gov/data/2020/dec/pl?get={}&for=county:{}&in=state:{}&key={}'.format(','.join(fields), county_name, state, API_key)\n",
    "        call_return = requests.get(final_call).json()\n",
    "        call_df = pd.DataFrame(call_return)\n",
    "        call_df.columns = call_df.iloc[0]\n",
    "        call_df = call_df.drop(call_df.index[0])\n",
    "        call_df = call_df.astype({'county': str})\n",
    "\n",
    "        call_df = call_df.merge(county_codes, left_on = 'county', right_on = 'County Code', how = 'left')\n",
    "    else:\n",
    "        final_call = 'https://api.census.gov/data/2020/dec/pl?get={}&for=state:{}&key={}'.format(fields[0], state, API_key)\n",
    "        call_return = requests.get(final_call).json()\n",
    "        call_df = pd.DataFrame(call_return)\n",
    "        call_df.columns = call_df.iloc[0]\n",
    "        call_df = call_df.drop(call_df.index[0])\n",
    "\n",
    "        #merge with state codes table\n",
    "        call_df = call_df.merge(state_codes, left_on = 'state', right_on = 'STATE', how = 'left')\n",
    "\n",
    "\n",
    "\n",
    "\n",
    "    return(final_call, call_df)"
   ]
  },
  {
   "cell_type": "code",
   "execution_count": 131,
   "metadata": {},
   "outputs": [
    {
     "name": "stdout",
     "output_type": "stream",
     "text": [
      "https://www2.census.gov/geo/docs/reference/codes/files/st36_ny_cou.txt\n"
     ]
    }
   ],
   "source": [
    "fields = ['P1_001N', 'P1_003N', 'H1_001N', 'H1_002N', 'H1_003N']\n",
    "url, results = census_2020(API_key, fields = fields, state_abr = 'NY', county_name='New York County', tract = True, county=True)"
   ]
  },
  {
   "cell_type": "code",
   "execution_count": null,
   "metadata": {},
   "outputs": [],
   "source": []
  },
  {
   "cell_type": "markdown",
   "metadata": {},
   "source": [
    "## Troubleshooting"
   ]
  },
  {
   "cell_type": "code",
   "execution_count": 3,
   "metadata": {},
   "outputs": [],
   "source": [
    "url = 'https://api.census.gov/data/2020/dec/pl/variables.html'\n",
    "html_text = requests.get(url).text\n"
   ]
  },
  {
   "cell_type": "code",
   "execution_count": 4,
   "metadata": {},
   "outputs": [],
   "source": [
    "soup = BeautifulSoup(html_text, 'html.parser')\n",
    "tables = []\n",
    "for table in soup.find_all('table'):\n",
    "    tables.append(table)\n",
    "\n",
    "data_table = tables[0]"
   ]
  },
  {
   "cell_type": "code",
   "execution_count": 5,
   "metadata": {},
   "outputs": [],
   "source": [
    "columns = []\n",
    "header = data_table.find_all('thead')[0].find_all('th')"
   ]
  },
  {
   "cell_type": "code",
   "execution_count": 6,
   "metadata": {},
   "outputs": [],
   "source": [
    "for i in header:\n",
    "  curr_column = i.get_text()\n",
    "  curr_column = curr_column.replace(' ', '_')\n",
    "  columns.append(curr_column)"
   ]
  },
  {
   "cell_type": "code",
   "execution_count": 7,
   "metadata": {},
   "outputs": [],
   "source": [
    "final_list = []\n",
    "for i in data_table.find_all('tr'):\n",
    "  curr_row = i.find_all('td')\n",
    "  if len(curr_row) == len(columns):\n",
    "    curr_list = []\n",
    "    #parse date\n",
    "    for val in range(0,len(columns)):\n",
    "      to_add = curr_row[val].get_text().strip().replace(',','')\n",
    "      curr_list.append(to_add)\n",
    "    final_list.append(curr_list)"
   ]
  },
  {
   "cell_type": "code",
   "execution_count": 8,
   "metadata": {},
   "outputs": [],
   "source": [
    "final_df = pd.DataFrame(final_list, columns=columns)"
   ]
  },
  {
   "cell_type": "code",
   "execution_count": 9,
   "metadata": {},
   "outputs": [],
   "source": [
    "final_df = final_df.loc[final_df['Concept'] != \"\"]"
   ]
  },
  {
   "cell_type": "code",
   "execution_count": 60,
   "metadata": {},
   "outputs": [],
   "source": [
    "\n",
    "\n",
    "\n",
    "def concept_dict_creation():\n",
    "    concepts_fields = {}\n",
    "    concepts = list(final_df['Concept'].unique())\n",
    "    concepts.remove('Census API Geography Specification')\n",
    "    concepts = concepts[1:]\n",
    "    for c in concepts:\n",
    "        curr_df = final_df.loc[final_df['Concept'] == c]\n",
    "        labels = list(curr_df['Label'])\n",
    "        field = list(curr_df['Name'])\n",
    "        concepts_fields[c] = {}\n",
    "        for l in range(len(labels)):\n",
    "            split_val = labels[l].split(\"!\")\n",
    "            #  = split_val[]\n",
    "            concepts_fields[c][labels[l]] = field[l]\n",
    "    return(concepts_fields)\n",
    "concepts_fields = concept_dict_creation() "
   ]
  },
  {
   "cell_type": "code",
   "execution_count": 55,
   "metadata": {},
   "outputs": [
    {
     "data": {
      "text/html": [
       "<div>\n",
       "<style scoped>\n",
       "    .dataframe tbody tr th:only-of-type {\n",
       "        vertical-align: middle;\n",
       "    }\n",
       "\n",
       "    .dataframe tbody tr th {\n",
       "        vertical-align: top;\n",
       "    }\n",
       "\n",
       "    .dataframe thead th {\n",
       "        text-align: right;\n",
       "    }\n",
       "</style>\n",
       "<table border=\"1\" class=\"dataframe\">\n",
       "  <thead>\n",
       "    <tr style=\"text-align: right;\">\n",
       "      <th></th>\n",
       "      <th>Name</th>\n",
       "      <th>Label</th>\n",
       "      <th>Concept</th>\n",
       "      <th>Required</th>\n",
       "      <th>Attributes</th>\n",
       "      <th>Limit</th>\n",
       "      <th>Predicate_Type</th>\n",
       "      <th>Group</th>\n",
       "    </tr>\n",
       "  </thead>\n",
       "  <tbody>\n",
       "    <tr>\n",
       "      <th>17</th>\n",
       "      <td>H1_001N</td>\n",
       "      <td>!!Total:</td>\n",
       "      <td>OCCUPANCY STATUS</td>\n",
       "      <td>not required</td>\n",
       "      <td>H1_001NA</td>\n",
       "      <td>0</td>\n",
       "      <td>int</td>\n",
       "      <td>H1</td>\n",
       "    </tr>\n",
       "    <tr>\n",
       "      <th>18</th>\n",
       "      <td>H1_002N</td>\n",
       "      <td>!!Total:!!Occupied</td>\n",
       "      <td>OCCUPANCY STATUS</td>\n",
       "      <td>not required</td>\n",
       "      <td>H1_002NA</td>\n",
       "      <td>0</td>\n",
       "      <td>int</td>\n",
       "      <td>H1</td>\n",
       "    </tr>\n",
       "    <tr>\n",
       "      <th>19</th>\n",
       "      <td>H1_003N</td>\n",
       "      <td>!!Total:!!Vacant</td>\n",
       "      <td>OCCUPANCY STATUS</td>\n",
       "      <td>not required</td>\n",
       "      <td>H1_003NA</td>\n",
       "      <td>0</td>\n",
       "      <td>int</td>\n",
       "      <td>H1</td>\n",
       "    </tr>\n",
       "  </tbody>\n",
       "</table>\n",
       "</div>"
      ],
      "text/plain": [
       "       Name               Label           Concept      Required Attributes  \\\n",
       "17  H1_001N            !!Total:  OCCUPANCY STATUS  not required   H1_001NA   \n",
       "18  H1_002N  !!Total:!!Occupied  OCCUPANCY STATUS  not required   H1_002NA   \n",
       "19  H1_003N    !!Total:!!Vacant  OCCUPANCY STATUS  not required   H1_003NA   \n",
       "\n",
       "   Limit Predicate_Type Group  \n",
       "17     0            int    H1  \n",
       "18     0            int    H1  \n",
       "19     0            int    H1  "
      ]
     },
     "execution_count": 55,
     "metadata": {},
     "output_type": "execute_result"
    }
   ],
   "source": [
    "final_df.loc[final_df['Concept'] == 'OCCUPANCY STATUS']"
   ]
  },
  {
   "cell_type": "code",
   "execution_count": 61,
   "metadata": {},
   "outputs": [
    {
     "data": {
      "text/plain": [
       "['!!Total:', '!!Total:!!Occupied', '!!Total:!!Vacant']"
      ]
     },
     "execution_count": 61,
     "metadata": {},
     "output_type": "execute_result"
    }
   ],
   "source": [
    "list(concepts_fields['OCCUPANCY STATUS'].keys())"
   ]
  },
  {
   "cell_type": "code",
   "execution_count": 65,
   "metadata": {},
   "outputs": [
    {
     "data": {
      "text/plain": [
       "'H1_001N'"
      ]
     },
     "execution_count": 65,
     "metadata": {},
     "output_type": "execute_result"
    }
   ],
   "source": [
    "concepts_fields['OCCUPANCY STATUS'].get('!!Total:', '!!Total:!!Occupied')"
   ]
  },
  {
   "cell_type": "code",
   "execution_count": 57,
   "metadata": {},
   "outputs": [
    {
     "data": {
      "text/plain": [
       "dict_values(['!!Total:', '!!Total:!!Occupied', '!!Total:!!Vacant'])"
      ]
     },
     "execution_count": 57,
     "metadata": {},
     "output_type": "execute_result"
    }
   ],
   "source": [
    "concepts_fields['OCCUPANCY STATUS'].values()"
   ]
  },
  {
   "cell_type": "code",
   "execution_count": 45,
   "metadata": {},
   "outputs": [
    {
     "data": {
      "text/plain": [
       "dict_keys(['OCCUPANCY STATUS', 'RACE', 'HISPANIC OR LATINO AND NOT HISPANIC OR LATINO BY RACE', 'RACE FOR THE POPULATION 18 YEARS AND OVER', 'HISPANIC OR LATINO AND NOT HISPANIC OR LATINO BY RACE FOR THE POPULATION 18 YEARS AND OVER', 'GROUP QUARTERS POPULATION BY MAJOR GROUP QUARTERS TYPE'])"
      ]
     },
     "execution_count": 45,
     "metadata": {},
     "output_type": "execute_result"
    }
   ],
   "source": [
    "concepts_fields.keys()"
   ]
  },
  {
   "cell_type": "code",
   "execution_count": 52,
   "metadata": {},
   "outputs": [
    {
     "data": {
      "text/plain": [
       "{'H1_001N': '!!Total:',\n",
       " 'H1_002N': '!!Total:!!Occupied',\n",
       " 'H1_003N': '!!Total:!!Vacant'}"
      ]
     },
     "execution_count": 52,
     "metadata": {},
     "output_type": "execute_result"
    }
   ],
   "source": [
    "concepts_fields['OCCUPANCY STATUS']"
   ]
  },
  {
   "cell_type": "code",
   "execution_count": null,
   "metadata": {},
   "outputs": [],
   "source": []
  }
 ],
 "metadata": {
  "kernelspec": {
   "display_name": "Python 3.9.1 ('base')",
   "language": "python",
   "name": "python3"
  },
  "language_info": {
   "codemirror_mode": {
    "name": "ipython",
    "version": 3
   },
   "file_extension": ".py",
   "mimetype": "text/x-python",
   "name": "python",
   "nbconvert_exporter": "python",
   "pygments_lexer": "ipython3",
   "version": "3.9.1"
  },
  "orig_nbformat": 4,
  "vscode": {
   "interpreter": {
    "hash": "0f3667b3701f30fffe81770bf88c77a756c01e660d475531b2ce81d486f5960c"
   }
  }
 },
 "nbformat": 4,
 "nbformat_minor": 2
}
